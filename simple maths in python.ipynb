{
 "cells": [
  {
   "cell_type": "code",
   "execution_count": 1,
   "metadata": {},
   "outputs": [
    {
     "name": "stdout",
     "output_type": "stream",
     "text": [
      "What is your mass in kilograms?55\n",
      "You weigh 8.642857142857144 stone.\n"
     ]
    }
   ],
   "source": [
    "mass_kg = int(input(\"What is your mass in kilograms?\" ))\n",
    "mass_stone = mass_kg * 2.2 / 14\n",
    "print(\"You weigh\", mass_stone, \"stone.\")"
   ]
  },
  {
   "cell_type": "code",
   "execution_count": 2,
   "metadata": {},
   "outputs": [],
   "source": [
    "mass_stone = mass_kg * 2.2 / 14"
   ]
  },
  {
   "cell_type": "code",
   "execution_count": 3,
   "metadata": {},
   "outputs": [],
   "source": [
    "a = 25"
   ]
  },
  {
   "cell_type": "code",
   "execution_count": 5,
   "metadata": {},
   "outputs": [
    {
     "name": "stdout",
     "output_type": "stream",
     "text": [
      "2.9999999999999996\n"
     ]
    },
    {
     "data": {
      "text/plain": [
       "3.0"
      ]
     },
     "execution_count": 5,
     "metadata": {},
     "output_type": "execute_result"
    }
   ],
   "source": [
    " >>> print(0.6/0.2)\n",
    " 3.0"
   ]
  },
  {
   "cell_type": "code",
   "execution_count": 6,
   "metadata": {},
   "outputs": [
    {
     "name": "stdout",
     "output_type": "stream",
     "text": [
      "2.0\n"
     ]
    },
    {
     "data": {
      "text/plain": [
       "2.0"
      ]
     },
     "execution_count": 6,
     "metadata": {},
     "output_type": "execute_result"
    }
   ],
   "source": [
    " >>> print(0.6//0.2)\n",
    " 2.0"
   ]
  },
  {
   "cell_type": "code",
   "execution_count": 7,
   "metadata": {},
   "outputs": [
    {
     "data": {
      "text/plain": [
       "0.19999999999999996"
      ]
     },
     "execution_count": 7,
     "metadata": {},
     "output_type": "execute_result"
    }
   ],
   "source": [
    " >>> 0.6 == 0.2 * ( 0.6 // 0.2 ) + 0.6 % 0.2\n",
    " True\n",
    " >>> 0.6 // 0.2\n",
    " 2.0\n",
    " >>> 0.6 % 0.2\n",
    " 0.19999999999999996"
   ]
  },
  {
   "cell_type": "code",
   "execution_count": 9,
   "metadata": {},
   "outputs": [
    {
     "name": "stdout",
     "output_type": "stream",
     "text": [
      "2.9999999999999996\n"
     ]
    },
    {
     "data": {
      "text/plain": [
       "True"
      ]
     },
     "execution_count": 9,
     "metadata": {},
     "output_type": "execute_result"
    }
   ],
   "source": [
    " >>> print(0.6 / 0.2)\n",
    " 3.0\n",
    " >>> 0.6 / 0.2\n",
    " 2.9999999999999996\n",
    " >>> 2.0 + ( 0.6 % 0.2 ) / 0.2\n",
    " 3.0\n",
    " >>> 0.6 / 0.2 == ( 0.6 // 0.2 ) + ( 0.6 % 0.2 ) / 0.2\n",
    " False\n",
    " >>> round( 0.6 / 0.2 ) == ( 0.6 // 0.2 ) + ( 0.6 % 0.2 ) / 0.2\n",
    " True"
   ]
  },
  {
   "cell_type": "code",
   "execution_count": 10,
   "metadata": {},
   "outputs": [
    {
     "name": "stdout",
     "output_type": "stream",
     "text": [
      "3.14\n"
     ]
    },
    {
     "data": {
      "text/plain": [
       "3.14"
      ]
     },
     "execution_count": 10,
     "metadata": {},
     "output_type": "execute_result"
    }
   ],
   "source": [
    ">>> print (round(3.14159265, 2))\n",
    "3.14"
   ]
  },
  {
   "cell_type": "code",
   "execution_count": 11,
   "metadata": {},
   "outputs": [
    {
     "name": "stdout",
     "output_type": "stream",
     "text": [
      "You weigh 8.64 stone.\n"
     ]
    }
   ],
   "source": [
    "print (\"You weigh\", round(mass_stone, 2), \"stone.\")"
   ]
  },
  {
   "cell_type": "code",
   "execution_count": 12,
   "metadata": {},
   "outputs": [
    {
     "name": "stdout",
     "output_type": "stream",
     "text": [
      "You weigh 8.64 stone.\n"
     ]
    }
   ],
   "source": [
    "twoSigFigs = round(mass_stone, 2)\n",
    "numToString = str(twoSigFigs)\n",
    "print (\"You weigh \" + numToString + \" stone.\")"
   ]
  },
  {
   "cell_type": "code",
   "execution_count": 13,
   "metadata": {},
   "outputs": [
    {
     "name": "stdout",
     "output_type": "stream",
     "text": [
      "1024\n"
     ]
    }
   ],
   "source": [
    "print(2 ** 10)"
   ]
  },
  {
   "cell_type": "code",
   "execution_count": 14,
   "metadata": {},
   "outputs": [
    {
     "name": "stdout",
     "output_type": "stream",
     "text": [
      "0\n",
      "1\n"
     ]
    }
   ],
   "source": [
    "print(4 % 2)\n",
    "print(4 % 3)"
   ]
  },
  {
   "cell_type": "code",
   "execution_count": 15,
   "metadata": {},
   "outputs": [
    {
     "name": "stdout",
     "output_type": "stream",
     "text": [
      "3\n"
     ]
    }
   ],
   "source": [
    "print(10 // 3)"
   ]
  },
  {
   "cell_type": "code",
   "execution_count": 16,
   "metadata": {},
   "outputs": [
    {
     "name": "stdout",
     "output_type": "stream",
     "text": [
      "3\n"
     ]
    }
   ],
   "source": [
    "print(10 // 3)"
   ]
  },
  {
   "cell_type": "code",
   "execution_count": 17,
   "metadata": {},
   "outputs": [],
   "source": [
    "u = 10 + 10 * 5"
   ]
  },
  {
   "cell_type": "code",
   "execution_count": 18,
   "metadata": {},
   "outputs": [
    {
     "name": "stdout",
     "output_type": "stream",
     "text": [
      "60\n"
     ]
    }
   ],
   "source": [
    "print(u)"
   ]
  },
  {
   "cell_type": "code",
   "execution_count": 19,
   "metadata": {},
   "outputs": [
    {
     "name": "stdout",
     "output_type": "stream",
     "text": [
      "0\n",
      "2\n",
      "4\n",
      "6\n",
      "8\n",
      "10\n",
      "12\n"
     ]
    }
   ],
   "source": [
    "for x in range (0, 7):\n",
    "    x *= 2\n",
    "    print(x)"
   ]
  },
  {
   "cell_type": "code",
   "execution_count": 1,
   "metadata": {},
   "outputs": [
    {
     "name": "stdout",
     "output_type": "stream",
     "text": [
      "$41.50\n"
     ]
    }
   ],
   "source": [
    "print (\"$41.50\")"
   ]
  },
  {
   "cell_type": "code",
   "execution_count": 2,
   "metadata": {},
   "outputs": [
    {
     "name": "stdout",
     "output_type": "stream",
     "text": [
      "0\n",
      "1\n"
     ]
    }
   ],
   "source": [
    "print(4 % 2)\n",
    "print(4 % 3)"
   ]
  },
  {
   "cell_type": "code",
   "execution_count": 3,
   "metadata": {},
   "outputs": [
    {
     "name": "stdout",
     "output_type": "stream",
     "text": [
      "1024\n"
     ]
    }
   ],
   "source": [
    "print(2 ** 10)"
   ]
  },
  {
   "cell_type": "code",
   "execution_count": 2,
   "metadata": {},
   "outputs": [
    {
     "data": {
      "text/plain": [
       "3.141592653589793"
      ]
     },
     "execution_count": 2,
     "metadata": {},
     "output_type": "execute_result"
    }
   ],
   "source": [
    "import math\n",
    "math.pi"
   ]
  },
  {
   "cell_type": "code",
   "execution_count": 3,
   "metadata": {},
   "outputs": [
    {
     "data": {
      "text/plain": [
       "2.718281828459045"
      ]
     },
     "execution_count": 3,
     "metadata": {},
     "output_type": "execute_result"
    }
   ],
   "source": [
    "math.e"
   ]
  },
  {
   "cell_type": "code",
   "execution_count": 4,
   "metadata": {},
   "outputs": [
    {
     "data": {
      "text/plain": [
       "0.5235987755982988"
      ]
     },
     "execution_count": 4,
     "metadata": {},
     "output_type": "execute_result"
    }
   ],
   "source": [
    "math.radians(30)"
   ]
  },
  {
   "cell_type": "code",
   "execution_count": 5,
   "metadata": {},
   "outputs": [
    {
     "data": {
      "text/plain": [
       "29.999999999999996"
      ]
     },
     "execution_count": 5,
     "metadata": {},
     "output_type": "execute_result"
    }
   ],
   "source": [
    "math.degrees(math.pi/6)"
   ]
  },
  {
   "cell_type": "code",
   "execution_count": 6,
   "metadata": {},
   "outputs": [
    {
     "data": {
      "text/plain": [
       "0.49999999999999994"
      ]
     },
     "execution_count": 6,
     "metadata": {},
     "output_type": "execute_result"
    }
   ],
   "source": [
    "math.sin(0.5235987755982988)"
   ]
  },
  {
   "cell_type": "code",
   "execution_count": 8,
   "metadata": {},
   "outputs": [
    {
     "data": {
      "text/plain": [
       "0.8660254037844387"
      ]
     },
     "execution_count": 8,
     "metadata": {},
     "output_type": "execute_result"
    }
   ],
   "source": [
    "math.cos(0.5235987755982988)"
   ]
  },
  {
   "cell_type": "code",
   "execution_count": 9,
   "metadata": {},
   "outputs": [
    {
     "data": {
      "text/plain": [
       "0.5773502691896257"
      ]
     },
     "execution_count": 9,
     "metadata": {},
     "output_type": "execute_result"
    }
   ],
   "source": [
    "math.tan(0.5235987755982988)"
   ]
  },
  {
   "cell_type": "code",
   "execution_count": 10,
   "metadata": {},
   "outputs": [
    {
     "data": {
      "text/plain": [
       "2.302585092994046"
      ]
     },
     "execution_count": 10,
     "metadata": {},
     "output_type": "execute_result"
    }
   ],
   "source": [
    "math.log(10)"
   ]
  },
  {
   "cell_type": "code",
   "execution_count": 11,
   "metadata": {},
   "outputs": [
    {
     "data": {
      "text/plain": [
       "1.0"
      ]
     },
     "execution_count": 11,
     "metadata": {},
     "output_type": "execute_result"
    }
   ],
   "source": [
    "math.log10(10)"
   ]
  },
  {
   "cell_type": "code",
   "execution_count": 12,
   "metadata": {},
   "outputs": [
    {
     "data": {
      "text/plain": [
       "22026.465794806703"
      ]
     },
     "execution_count": 12,
     "metadata": {},
     "output_type": "execute_result"
    }
   ],
   "source": [
    "math.e**10"
   ]
  },
  {
   "cell_type": "code",
   "execution_count": 13,
   "metadata": {},
   "outputs": [
    {
     "data": {
      "text/plain": [
       "16.0"
      ]
     },
     "execution_count": 13,
     "metadata": {},
     "output_type": "execute_result"
    }
   ],
   "source": [
    "math.pow(2,4)"
   ]
  },
  {
   "cell_type": "code",
   "execution_count": 14,
   "metadata": {},
   "outputs": [
    {
     "data": {
      "text/plain": [
       "16"
      ]
     },
     "execution_count": 14,
     "metadata": {},
     "output_type": "execute_result"
    }
   ],
   "source": [
    "2**4"
   ]
  },
  {
   "cell_type": "code",
   "execution_count": 15,
   "metadata": {},
   "outputs": [
    {
     "data": {
      "text/plain": [
       "10.0"
      ]
     },
     "execution_count": 15,
     "metadata": {},
     "output_type": "execute_result"
    }
   ],
   "source": [
    "math.sqrt(100)"
   ]
  },
  {
   "cell_type": "code",
   "execution_count": 16,
   "metadata": {},
   "outputs": [
    {
     "data": {
      "text/plain": [
       "1.7320508075688772"
      ]
     },
     "execution_count": 16,
     "metadata": {},
     "output_type": "execute_result"
    }
   ],
   "source": [
    "math.sqrt(3)"
   ]
  },
  {
   "cell_type": "code",
   "execution_count": 17,
   "metadata": {},
   "outputs": [
    {
     "data": {
      "text/plain": [
       "5"
      ]
     },
     "execution_count": 17,
     "metadata": {},
     "output_type": "execute_result"
    }
   ],
   "source": [
    "math.ceil(4.5867)"
   ]
  },
  {
   "cell_type": "code",
   "execution_count": 18,
   "metadata": {},
   "outputs": [
    {
     "data": {
      "text/plain": [
       "4"
      ]
     },
     "execution_count": 18,
     "metadata": {},
     "output_type": "execute_result"
    }
   ],
   "source": [
    "math.floor(4.5687)"
   ]
  },
  {
   "cell_type": "code",
   "execution_count": 1,
   "metadata": {},
   "outputs": [
    {
     "name": "stdout",
     "output_type": "stream",
     "text": [
      "1 --> 0x01\n",
      "2 --> 0x02\n",
      "3 --> 0x03\n",
      "4 --> 0x04\n",
      "5 --> 0x05\n",
      "6 --> 0x06\n",
      "7 --> 0x07\n",
      "8 --> 0x08\n",
      "9 --> 0x09\n"
     ]
    }
   ],
   "source": [
    "for i in range(1, 10):\n",
    "    print(i,'-->',format(i, '#04x'))"
   ]
  },
  {
   "cell_type": "code",
   "execution_count": 2,
   "metadata": {},
   "outputs": [
    {
     "name": "stdout",
     "output_type": "stream",
     "text": [
      "\n",
      "304 = 2 * 150 + 4\n",
      "150 = 37 * 4 + 2\n",
      "4 = 2 * 2 + 0\n",
      "gcd is 2\n",
      "\n",
      "1000 = 100 * 10 + 0\n",
      "gcd is 10\n",
      "\n",
      "150 = 16 * 9 + 6\n",
      "9 = 1 * 6 + 3\n",
      "6 = 2 * 3 + 0\n",
      "gcd is 3\n"
     ]
    },
    {
     "data": {
      "text/plain": [
       "3"
      ]
     },
     "execution_count": 2,
     "metadata": {},
     "output_type": "execute_result"
    }
   ],
   "source": [
    "from math import *\n",
    "\n",
    "def euclid_algo(x, y, verbose=True):\n",
    "\tif x < y: # We want x >= y\n",
    "\t\treturn euclid_algo(y, x, verbose)\n",
    "\tprint()\n",
    "\twhile y != 0:\n",
    "\t\tif verbose: print('%s = %s * %s + %s' % (x, floor(x/y), y, x % y))\n",
    "\t\t(x, y) = (y, x % y)\n",
    "\t\n",
    "\tif verbose: print('gcd is %s' % x) \n",
    "\treturn x\n",
    "\n",
    "\n",
    "euclid_algo(150, 304)\n",
    "euclid_algo(1000, 10)\n",
    "euclid_algo(150, 9)"
   ]
  },
  {
   "cell_type": "code",
   "execution_count": 3,
   "metadata": {},
   "outputs": [
    {
     "name": "stdout",
     "output_type": "stream",
     "text": [
      "Pythagorean theorem calculator! Calculate your triangle sides.\n",
      "Assume the sides are a, b, c and c is the hypotenuse (the side opposite the right angle\n",
      "Which side (a, b, c) do you wish to calculate? side> a\n",
      "Input the length of side b: 19\n",
      "Input the length of side c: 69\n",
      "The length of side a is\n",
      "66.332495807108\n"
     ]
    }
   ],
   "source": [
    "from math import sqrt\n",
    "\n",
    "print('Pythagorean theorem calculator! Calculate your triangle sides.')\n",
    "print('Assume the sides are a, b, c and c is the hypotenuse (the side opposite the right angle')\n",
    "formula = input('Which side (a, b, c) do you wish to calculate? side> ')\n",
    "\n",
    "if formula == 'c':\n",
    "\tside_a = int(input('Input the length of side a: '))\n",
    "\tside_b = int(input('Input the length of side b: '))\n",
    "\n",
    "\tside_c = sqrt(side_a * side_a + side_b * side_b)\n",
    "\t\n",
    "\tprint('The length of side c is: ' )\n",
    "\tprint(side_c)\n",
    "\n",
    "elif formula == 'a':\n",
    "    side_b = int(input('Input the length of side b: '))\n",
    "    side_c = int(input('Input the length of side c: '))\n",
    "    \n",
    "    side_a = sqrt((side_c * side_c) - (side_b * side_b))\n",
    "    \n",
    "    print('The length of side a is' )\n",
    "    print(side_a)\n",
    "\n",
    "elif formula == 'b':\n",
    "    side_a = int(input('Input the length of side a: '))\n",
    "    side_b = int(input('Input the length of side c: '))\n",
    "        \n",
    "    side_c = sqrt(side_c * side_c - side_a * side_a)\n",
    "    \n",
    "    print('The length of side b is')\n",
    "    print(side_c)\n",
    "\n",
    "else:\n",
    "\tprint('Please select a side between a, b, c')"
   ]
  },
  {
   "cell_type": "code",
   "execution_count": 4,
   "metadata": {},
   "outputs": [
    {
     "name": "stdout",
     "output_type": "stream",
     "text": [
      "************************\n",
      "** A Simple Math Quiz **\n",
      "************************\n",
      "1. Addition\n",
      "2. Subtraction\n",
      "3. Multiplication\n",
      "4. Integer Division\n",
      "5. Exit\n",
      "------------------------\n",
      "Enter your choice: 3\n",
      "Enter your answer\n",
      "10 * 8 = 80\n",
      "Correct.\n",
      "Enter your choice: 1\n",
      "Enter your answer\n",
      "19 + 16 = 35\n",
      "Correct.\n",
      "Enter your choice: 2\n",
      "Enter your answer\n",
      "6 - 12 = -6\n",
      "Correct.\n",
      "Enter your choice: 4\n",
      "Enter your answer\n",
      "6 // 10 = 0.6\n"
     ]
    },
    {
     "ename": "ValueError",
     "evalue": "invalid literal for int() with base 10: '0.6'",
     "output_type": "error",
     "traceback": [
      "\u001b[1;31m---------------------------------------------------------------------------\u001b[0m",
      "\u001b[1;31mValueError\u001b[0m                                Traceback (most recent call last)",
      "\u001b[1;32m<ipython-input-4-03fa94d7dada>\u001b[0m in \u001b[0;36m<module>\u001b[1;34m\u001b[0m\n\u001b[0;32m    104\u001b[0m     \u001b[0mdisplay_result\u001b[0m\u001b[1;33m(\u001b[0m\u001b[0mtotal\u001b[0m\u001b[1;33m,\u001b[0m \u001b[0mcorrect\u001b[0m\u001b[1;33m)\u001b[0m\u001b[1;33m\u001b[0m\u001b[1;33m\u001b[0m\u001b[0m\n\u001b[0;32m    105\u001b[0m \u001b[1;33m\u001b[0m\u001b[0m\n\u001b[1;32m--> 106\u001b[1;33m \u001b[0mmain\u001b[0m\u001b[1;33m(\u001b[0m\u001b[1;33m)\u001b[0m\u001b[1;33m\u001b[0m\u001b[1;33m\u001b[0m\u001b[0m\n\u001b[0m",
      "\u001b[1;32m<ipython-input-4-03fa94d7dada>\u001b[0m in \u001b[0;36mmain\u001b[1;34m()\u001b[0m\n\u001b[0;32m     97\u001b[0m     \u001b[1;32mwhile\u001b[0m \u001b[0moption\u001b[0m \u001b[1;33m!=\u001b[0m \u001b[1;36m5\u001b[0m\u001b[1;33m:\u001b[0m\u001b[1;33m\u001b[0m\u001b[1;33m\u001b[0m\u001b[0m\n\u001b[0;32m     98\u001b[0m         \u001b[0mtotal\u001b[0m \u001b[1;33m=\u001b[0m \u001b[0mtotal\u001b[0m \u001b[1;33m+\u001b[0m \u001b[1;36m1\u001b[0m\u001b[1;33m\u001b[0m\u001b[1;33m\u001b[0m\u001b[0m\n\u001b[1;32m---> 99\u001b[1;33m         \u001b[0mcorrect\u001b[0m \u001b[1;33m=\u001b[0m \u001b[0mmenu_option\u001b[0m\u001b[1;33m(\u001b[0m\u001b[0moption\u001b[0m\u001b[1;33m,\u001b[0m \u001b[0mcorrect\u001b[0m\u001b[1;33m)\u001b[0m\u001b[1;33m\u001b[0m\u001b[1;33m\u001b[0m\u001b[0m\n\u001b[0m\u001b[0;32m    100\u001b[0m         \u001b[0moption\u001b[0m \u001b[1;33m=\u001b[0m \u001b[0mget_user_input\u001b[0m\u001b[1;33m(\u001b[0m\u001b[1;33m)\u001b[0m\u001b[1;33m\u001b[0m\u001b[1;33m\u001b[0m\u001b[0m\n\u001b[0;32m    101\u001b[0m \u001b[1;33m\u001b[0m\u001b[0m\n",
      "\u001b[1;32m<ipython-input-4-03fa94d7dada>\u001b[0m in \u001b[0;36mmenu_option\u001b[1;34m(index, count)\u001b[0m\n\u001b[0;32m     72\u001b[0m         \u001b[0mproblem\u001b[0m \u001b[1;33m=\u001b[0m \u001b[0mstr\u001b[0m\u001b[1;33m(\u001b[0m\u001b[0mnumber_one\u001b[0m\u001b[1;33m)\u001b[0m \u001b[1;33m+\u001b[0m \u001b[1;34m\" // \"\u001b[0m \u001b[1;33m+\u001b[0m \u001b[0mstr\u001b[0m\u001b[1;33m(\u001b[0m\u001b[0mnumber_two\u001b[0m\u001b[1;33m)\u001b[0m\u001b[1;33m\u001b[0m\u001b[1;33m\u001b[0m\u001b[0m\n\u001b[0;32m     73\u001b[0m         \u001b[0msolution\u001b[0m \u001b[1;33m=\u001b[0m \u001b[0mnumber_one\u001b[0m \u001b[1;33m//\u001b[0m \u001b[0mnumber_two\u001b[0m\u001b[1;33m\u001b[0m\u001b[1;33m\u001b[0m\u001b[0m\n\u001b[1;32m---> 74\u001b[1;33m         \u001b[0muser_solution\u001b[0m \u001b[1;33m=\u001b[0m \u001b[0mget_user_solution\u001b[0m\u001b[1;33m(\u001b[0m\u001b[0mproblem\u001b[0m\u001b[1;33m)\u001b[0m\u001b[1;33m\u001b[0m\u001b[1;33m\u001b[0m\u001b[0m\n\u001b[0m\u001b[0;32m     75\u001b[0m         \u001b[0mcount\u001b[0m \u001b[1;33m=\u001b[0m \u001b[0mcheck_solution\u001b[0m\u001b[1;33m(\u001b[0m\u001b[0muser_solution\u001b[0m\u001b[1;33m,\u001b[0m \u001b[0msolution\u001b[0m\u001b[1;33m,\u001b[0m \u001b[0mcount\u001b[0m\u001b[1;33m)\u001b[0m\u001b[1;33m\u001b[0m\u001b[1;33m\u001b[0m\u001b[0m\n\u001b[0;32m     76\u001b[0m         \u001b[1;32mreturn\u001b[0m \u001b[0mcount\u001b[0m\u001b[1;33m\u001b[0m\u001b[1;33m\u001b[0m\u001b[0m\n",
      "\u001b[1;32m<ipython-input-4-03fa94d7dada>\u001b[0m in \u001b[0;36mget_user_solution\u001b[1;34m(problem)\u001b[0m\n\u001b[0;32m     34\u001b[0m     \u001b[0mprint\u001b[0m\u001b[1;33m(\u001b[0m\u001b[1;34m\"Enter your answer\"\u001b[0m\u001b[1;33m)\u001b[0m\u001b[1;33m\u001b[0m\u001b[1;33m\u001b[0m\u001b[0m\n\u001b[0;32m     35\u001b[0m     \u001b[0mprint\u001b[0m\u001b[1;33m(\u001b[0m\u001b[0mproblem\u001b[0m\u001b[1;33m,\u001b[0m \u001b[0mend\u001b[0m\u001b[1;33m=\u001b[0m\u001b[1;34m\"\"\u001b[0m\u001b[1;33m)\u001b[0m\u001b[1;33m\u001b[0m\u001b[1;33m\u001b[0m\u001b[0m\n\u001b[1;32m---> 36\u001b[1;33m     \u001b[0mresult\u001b[0m \u001b[1;33m=\u001b[0m \u001b[0mint\u001b[0m\u001b[1;33m(\u001b[0m\u001b[0minput\u001b[0m\u001b[1;33m(\u001b[0m\u001b[1;34m\" = \"\u001b[0m\u001b[1;33m)\u001b[0m\u001b[1;33m)\u001b[0m\u001b[1;33m\u001b[0m\u001b[1;33m\u001b[0m\u001b[0m\n\u001b[0m\u001b[0;32m     37\u001b[0m     \u001b[1;32mreturn\u001b[0m \u001b[0mresult\u001b[0m\u001b[1;33m\u001b[0m\u001b[1;33m\u001b[0m\u001b[0m\n\u001b[0;32m     38\u001b[0m \u001b[1;33m\u001b[0m\u001b[0m\n",
      "\u001b[1;31mValueError\u001b[0m: invalid literal for int() with base 10: '0.6'"
     ]
    }
   ],
   "source": [
    "import random\n",
    "#https://gist.github.com/cwil323/9b1bfd25523f75d361879adfed550be2\n",
    "\n",
    "def display_intro():\n",
    "    title = \"** A Simple Math Quiz **\"\n",
    "    print(\"*\" * len(title))\n",
    "    print(title)\n",
    "    print(\"*\" * len(title))\n",
    "\n",
    "\n",
    "def display_menu():\n",
    "    menu_list = [\"1. Addition\", \"2. Subtraction\", \"3. Multiplication\", \"4. Integer Division\", \"5. Exit\"]\n",
    "    print(menu_list[0])\n",
    "    print(menu_list[1])\n",
    "    print(menu_list[2])\n",
    "    print(menu_list[3])\n",
    "    print(menu_list[4])\n",
    "\n",
    "\n",
    "def display_separator():\n",
    "    print(\"-\" * 24)\n",
    "\n",
    "\n",
    "def get_user_input():\n",
    "    user_input = int(input(\"Enter your choice: \"))\n",
    "    while user_input > 5 or user_input <= 0:\n",
    "        print(\"Invalid menu option.\")\n",
    "        user_input = int(input(\"Please try again: \"))\n",
    "    else:\n",
    "        return user_input\n",
    "\n",
    "\n",
    "def get_user_solution(problem):\n",
    "    print(\"Enter your answer\")\n",
    "    print(problem, end=\"\")\n",
    "    result = int(input(\" = \"))\n",
    "    return result\n",
    "\n",
    "\n",
    "def check_solution(user_solution, solution, count):\n",
    "    if user_solution == solution:\n",
    "        count = count + 1\n",
    "        print(\"Correct.\")\n",
    "        return count\n",
    "    else:\n",
    "        print(\"Incorrect.\")\n",
    "        return count\n",
    "\n",
    "\n",
    "def menu_option(index, count):\n",
    "    number_one = random.randrange(1, 21)\n",
    "    number_two = random.randrange(1, 21)\n",
    "    if index is 1:\n",
    "        problem = str(number_one) + \" + \" + str(number_two)\n",
    "        solution = number_one + number_two\n",
    "        user_solution = get_user_solution(problem)\n",
    "        count = check_solution(user_solution, solution, count)\n",
    "        return count\n",
    "    elif index is 2:\n",
    "        problem = str(number_one) + \" - \" + str(number_two)\n",
    "        solution = number_one - number_two\n",
    "        user_solution = get_user_solution(problem)\n",
    "        count = check_solution(user_solution, solution, count)\n",
    "        return count\n",
    "    elif index is 3:\n",
    "        problem = str(number_one) + \" * \" + str(number_two)\n",
    "        solution = number_one * number_two\n",
    "        user_solution = get_user_solution(problem)\n",
    "        count = check_solution(user_solution, solution, count)\n",
    "        return count\n",
    "    else:\n",
    "        problem = str(number_one) + \" // \" + str(number_two)\n",
    "        solution = number_one // number_two\n",
    "        user_solution = get_user_solution(problem)\n",
    "        count = check_solution(user_solution, solution, count)\n",
    "        return count\n",
    "\n",
    "\n",
    "def display_result(total, correct):\n",
    "    if total > 0:\n",
    "        result = correct / total\n",
    "        percentage = round((result * 100), 2)\n",
    "    if total == 0:\n",
    "        percentage = 0\n",
    "    print(\"You answered\", total, \"questions with\", correct, \"correct.\")\n",
    "    print(\"Your score is \", percentage, \"%. Thank you.\", sep = \"\")\n",
    "\n",
    "\n",
    "def main():\n",
    "    display_intro()\n",
    "    display_menu()\n",
    "    display_separator()\n",
    "\n",
    "    option = get_user_input()\n",
    "    total = 0\n",
    "    correct = 0\n",
    "    while option != 5:\n",
    "        total = total + 1\n",
    "        correct = menu_option(option, correct)\n",
    "        option = get_user_input()\n",
    "\n",
    "    print(\"Exit the quiz.\")\n",
    "    display_separator()\n",
    "    display_result(total, correct)\n",
    "\n",
    "main()"
   ]
  },
  {
   "cell_type": "code",
   "execution_count": 5,
   "metadata": {},
   "outputs": [
    {
     "name": "stdout",
     "output_type": "stream",
     "text": [
      "lol\n"
     ]
    }
   ],
   "source": [
    "print (\"lol\")"
   ]
  },
  {
   "cell_type": "code",
   "execution_count": null,
   "metadata": {},
   "outputs": [],
   "source": []
  }
 ],
 "metadata": {
  "kernelspec": {
   "display_name": "Python 3",
   "language": "python",
   "name": "python3"
  },
  "language_info": {
   "codemirror_mode": {
    "name": "ipython",
    "version": 3
   },
   "file_extension": ".py",
   "mimetype": "text/x-python",
   "name": "python",
   "nbconvert_exporter": "python",
   "pygments_lexer": "ipython3",
   "version": "3.7.3"
  }
 },
 "nbformat": 4,
 "nbformat_minor": 2
}
